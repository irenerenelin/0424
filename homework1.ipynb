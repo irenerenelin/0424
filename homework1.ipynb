{
 "cells": [
  {
   "cell_type": "code",
   "execution_count": 10,
   "metadata": {},
   "outputs": [
    {
     "name": "stdout",
     "output_type": "stream",
     "text": [
      "請輸入成積：89\n",
      "優等  89\n"
     ]
    }
   ],
   "source": [
    "score = int (input(\"請輸入成積：\"))\n",
    "\n",
    "if score>=0 and score<60:       \n",
    "    print(\"不及格 \",score)\n",
    "elif score>=60 and score<80:\n",
    "    print(\"及格 \",score)\n",
    "elif score>=80 and score<=100:\n",
    "    print(\"優等 \",score)\n",
    "else:\n",
    "    print(\"未知\")\n",
    "\n",
    "    "
   ]
  },
  {
   "cell_type": "code",
   "execution_count": null,
   "metadata": {},
   "outputs": [],
   "source": []
  },
  {
   "cell_type": "code",
   "execution_count": null,
   "metadata": {},
   "outputs": [],
   "source": []
  }
 ],
 "metadata": {
  "kernelspec": {
   "display_name": "Python 3",
   "language": "python",
   "name": "python3"
  },
  "language_info": {
   "codemirror_mode": {
    "name": "ipython",
    "version": 3
   },
   "file_extension": ".py",
   "mimetype": "text/x-python",
   "name": "python",
   "nbconvert_exporter": "python",
   "pygments_lexer": "ipython3",
   "version": "3.7.3"
  }
 },
 "nbformat": 4,
 "nbformat_minor": 2
}
